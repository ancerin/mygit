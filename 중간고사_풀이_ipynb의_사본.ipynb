{
  "cells": [
    {
      "cell_type": "markdown",
      "metadata": {
        "id": "view-in-github",
        "colab_type": "text"
      },
      "source": [
        "<a href=\"https://colab.research.google.com/github/ancerin/mygit/blob/main/%EC%A4%91%EA%B0%84%EA%B3%A0%EC%82%AC_%ED%92%80%EC%9D%B4_ipynb%EC%9D%98_%EC%82%AC%EB%B3%B8.ipynb\" target=\"_parent\"><img src=\"https://colab.research.google.com/assets/colab-badge.svg\" alt=\"Open In Colab\"/></a>"
      ]
    },
    {
      "cell_type": "code",
      "execution_count": null,
      "metadata": {
        "colab": {
          "base_uri": "https://localhost:8080/"
        },
        "id": "2locrehO6gcZ",
        "outputId": "f69a5b5e-97de-47a0-ce35-ad77e378f569"
      },
      "outputs": [
        {
          "output_type": "stream",
          "name": "stdout",
          "text": [
            "언제나 \"현재\"에 집중할 수 있다면 행복할 것이다\n"
          ]
        }
      ],
      "source": [
        "#1. 더음 문장 큰따움표(\"\") 포함해서 출력해라\n",
        "# 언제나 '현재'에 집중할 수 있다면 행복할 것이다.\n",
        "print('언제나 \"현재\"에 집중할 수 있다면 행복할 것이다')"
      ]
    },
    {
      "cell_type": "code",
      "execution_count": null,
      "metadata": {
        "id": "v5hysefh7WWI"
      },
      "outputs": [],
      "source": [
        "#2. \\t \\n 의 역할을 서술\n",
        "# \\t: tab공간을 생성\n",
        "# \\n: 엔터 역할"
      ]
    },
    {
      "cell_type": "code",
      "execution_count": null,
      "metadata": {
        "colab": {
          "base_uri": "https://localhost:8080/"
        },
        "id": "zyre4H2O709Y",
        "outputId": "bed88a46-7e88-47e4-c236-4b5861b753b5"
      },
      "outputs": [
        {
          "output_type": "stream",
          "name": "stdout",
          "text": [
            "48385 3\n"
          ]
        }
      ],
      "source": [
        "#3. 본인의 학번을 5로 나눈 몫과 나머지 출력\n",
        "# 몫// 나머지 %\n",
        "student_id = 241928\n",
        "a = 241928//5\n",
        "b = 241928%5\n",
        "print(a,b)"
      ]
    },
    {
      "cell_type": "code",
      "execution_count": null,
      "metadata": {
        "colab": {
          "base_uri": "https://localhost:8080/"
        },
        "id": "P8qoiDJJ8Opi",
        "outputId": "04b9befc-7af7-43e6-b42a-5d8f2a36b2e1"
      },
      "outputs": [
        {
          "output_type": "stream",
          "name": "stdout",
          "text": [
            "홀홀홀\n"
          ]
        }
      ],
      "source": [
        "#4. '홀'만 출력하는 프로그램을 작성\n",
        "# '홀'\n",
        "#'홀홀홀'\n",
        "str1 = '홀짝홀짝홀짝'\n",
        "print(str1[0:5:2])"
      ]
    },
    {
      "cell_type": "code",
      "execution_count": null,
      "metadata": {
        "id": "WCMP08cX8tbf"
      },
      "outputs": [],
      "source": [
        "#5. 리스트\n",
        "name = ['사회과학대학', '공과대학', '인문대학']\n",
        "# 1) 마지막에 '자연과학대학' 추가\n",
        "name.append('자연과학대학')\n",
        "#2) '공과대학' 삭제\n",
        "name.remove('공과대학')"
      ]
    },
    {
      "cell_type": "code",
      "execution_count": null,
      "metadata": {
        "id": "nynN4vlK9Yx1"
      },
      "outputs": [],
      "source": [
        "#6. 리스트 메서드 설명 -  메서드명"
      ]
    },
    {
      "cell_type": "code",
      "execution_count": null,
      "metadata": {
        "colab": {
          "base_uri": "https://localhost:8080/"
        },
        "id": "uBbhEdhU9gu-",
        "outputId": "18a47701-0cbd-4d58-dbd3-c092144a5365"
      },
      "outputs": [
        {
          "output_type": "stream",
          "name": "stdout",
          "text": [
            "9 1\n",
            "4.416666666666667\n"
          ]
        }
      ],
      "source": [
        "#7. 리스트 최댓값, 최솟값, 평균\n",
        "# 1)\n",
        "num = [2,3,7,2,9,9,4,5,5,5,1,1]\n",
        "num1 = max(num)#최댓값\n",
        "num2 = min(num)#최솟값\n",
        "print(num1,num2)\n",
        "# 2)\n",
        "print(sum(num)/len(num))"
      ]
    },
    {
      "cell_type": "code",
      "execution_count": null,
      "metadata": {
        "colab": {
          "base_uri": "https://localhost:8080/"
        },
        "id": "IHkxxn4Y92Tr",
        "outputId": "dc11a5bd-5a33-447b-d263-3b532cb3d800"
      },
      "outputs": [
        {
          "output_type": "execute_result",
          "data": {
            "text/plain": [
              "dict_keys(['스크류바'])"
            ]
          },
          "metadata": {},
          "execution_count": 9
        }
      ],
      "source": [
        "#8. 딕셔너리 작성\n",
        "# 1)\n",
        "dictionary = {'스크류바':'1000'}\n",
        "# 2) 키 출력\n",
        "dictionary.keys()"
      ]
    },
    {
      "cell_type": "code",
      "execution_count": null,
      "metadata": {
        "colab": {
          "base_uri": "https://localhost:8080/"
        },
        "id": "dwhJwC2G-Yu-",
        "outputId": "cbad7edf-2aaf-45e4-b16f-5f3fbc82d1fc"
      },
      "outputs": [
        {
          "output_type": "stream",
          "name": "stdout",
          "text": [
            "사과\n",
            "귤\n"
          ]
        }
      ],
      "source": [
        "#9. 빈칸 채우기\n",
        "fruit = ['사과','귤','배','수박','딸기']\n",
        "for i in fruit:\n",
        "  if i =='배':\n",
        "   break\n",
        "  print(i)"
      ]
    },
    {
      "cell_type": "code",
      "execution_count": null,
      "metadata": {
        "colab": {
          "base_uri": "https://localhost:8080/"
        },
        "id": "JXC6rDXm_M23",
        "outputId": "5cfb563c-53ca-42f5-9315-53c2faf64b25"
      },
      "outputs": [
        {
          "output_type": "stream",
          "name": "stdout",
          "text": [
            "사과\n",
            "귤\n",
            "배\n",
            "딸기\n"
          ]
        }
      ],
      "source": [
        "fruit = ['사과','귤','배','수박','딸기']\n",
        "for i in fruit:\n",
        "  if i =='수박':\n",
        "   continue\n",
        "  print(i)\n",
        "  #break하면 그부분 멈춤fruit = ['사과','귤','배','수박','딸기']\n",
        "  for i in fruit:\n",
        "    if i =='수박':\n",
        "       continue\n",
        "         print(i)\n",
        "           #break하면 그전부분까지 하고 멈춤"
      ]
    },
    {
      "cell_type": "code",
      "execution_count": null,
      "metadata": {
        "colab": {
          "base_uri": "https://localhost:8080/"
        },
        "id": "3VJGn0Ce_T-N",
        "outputId": "47b8c95e-1bfe-4c66-9026-3759a42b4693"
      },
      "outputs": [
        {
          "output_type": "stream",
          "name": "stdout",
          "text": [
            "A\n",
            "C\n",
            "B\n",
            "E\n",
            "D\n"
          ]
        }
      ],
      "source": [
        "#10 프로그램\n",
        "print('A')      #1\n",
        "def message1(): #함수 정의 실행 x\n",
        "  print('B')\n",
        "print('C')      #2\n",
        "def message2(): #함수 정의 실행 x\n",
        "  print('D')\n",
        "message1()      #print(\"B\") 3번\n",
        "print('E')      #4\n",
        "message2()      #print(\"D\")5번 A C B E D"
      ]
    },
    {
      "cell_type": "code",
      "execution_count": null,
      "metadata": {
        "colab": {
          "base_uri": "https://localhost:8080/"
        },
        "id": "1dhuzqDy_xcH",
        "outputId": "145b068a-b3b9-447d-cffc-b2512dd781d1"
      },
      "outputs": [
        {
          "output_type": "stream",
          "name": "stdout",
          "text": [
            "5\n"
          ]
        }
      ],
      "source": [
        "#11. a값은?\n",
        "a = 5\n",
        "def func1():\n",
        "  a = 1\n",
        "def func2():\n",
        "  print(a)\n",
        "def func3():ㅂ\n",
        "  global a\n",
        "  a = 4\n",
        "print(a)\n",
        "#답은 5"
      ]
    },
    {
      "cell_type": "code",
      "execution_count": null,
      "metadata": {
        "colab": {
          "base_uri": "https://localhost:8080/",
          "height": 36
        },
        "id": "jdf9yk7NALcs",
        "outputId": "68bdb71c-428e-4ba4-d21f-0017b798f7f0"
      },
      "outputs": [
        {
          "output_type": "execute_result",
          "data": {
            "text/plain": [
              "'2210'"
            ],
            "application/vnd.google.colaboratory.intrinsic+json": {
              "type": "string"
            }
          },
          "metadata": {},
          "execution_count": 17
        }
      ],
      "source": [
        "#12. 자동차 '124가-2210'->2210만 출력\n",
        "string = '124가2210'\n",
        "string[-4:]"
      ]
    },
    {
      "cell_type": "code",
      "execution_count": null,
      "metadata": {
        "colab": {
          "base_uri": "https://localhost:8080/"
        },
        "id": "DeQKQ2NwAeDN",
        "outputId": "52ef908e-a16b-4eca-fede-7ef0ae46d14f"
      },
      "outputs": [
        {
          "output_type": "execute_result",
          "data": {
            "text/plain": [
              "['www', 'jnu', 'ac', 'kr']"
            ]
          },
          "metadata": {},
          "execution_count": 18
        }
      ],
      "source": [
        "#13. 'www.jnu.ac.kr'\n",
        "string = 'www.jnu.ac.kr'\n",
        "string.split(\".\")"
      ]
    },
    {
      "cell_type": "code",
      "execution_count": null,
      "metadata": {
        "colab": {
          "base_uri": "https://localhost:8080/",
          "height": 36
        },
        "id": "494QHneJArLA",
        "outputId": "6b4b0204-75ea-4572-c012-371a3f707224"
      },
      "outputs": [
        {
          "output_type": "execute_result",
          "data": {
            "text/plain": [
              "'NOHTYP'"
            ],
            "application/vnd.google.colaboratory.intrinsic+json": {
              "type": "string"
            }
          },
          "metadata": {},
          "execution_count": 19
        }
      ],
      "source": [
        "#14. 'PYTHON' 거꾸로 출력\n",
        "string = 'PYTHON'\n",
        "string[::-1]"
      ]
    },
    {
      "cell_type": "code",
      "execution_count": null,
      "metadata": {
        "colab": {
          "base_uri": "https://localhost:8080/"
        },
        "id": "ReuJmh4GA84O",
        "outputId": "cd8b3197-ccf0-45bf-c3e0-bd55ef0577bd"
      },
      "outputs": [
        {
          "output_type": "stream",
          "name": "stdout",
          "text": [
            "2 * 1 = 2\n",
            "2 * 2 = 4\n",
            "2 * 3 = 6\n",
            "2 * 4 = 8\n",
            "2 * 5 = 10\n",
            "2 * 6 = 12\n",
            "2 * 7 = 14\n",
            "2 * 8 = 16\n",
            "2 * 9 = 18\n",
            "3 * 1 = 3\n",
            "3 * 2 = 6\n",
            "3 * 3 = 9\n",
            "3 * 4 = 12\n",
            "3 * 5 = 15\n",
            "3 * 6 = 18\n",
            "3 * 7 = 21\n",
            "3 * 8 = 24\n",
            "3 * 9 = 27\n",
            "4 * 1 = 4\n",
            "4 * 2 = 8\n",
            "4 * 3 = 12\n",
            "4 * 4 = 16\n",
            "4 * 5 = 20\n",
            "4 * 6 = 24\n",
            "4 * 7 = 28\n",
            "4 * 8 = 32\n",
            "4 * 9 = 36\n",
            "5 * 1 = 5\n",
            "5 * 2 = 10\n",
            "5 * 3 = 15\n",
            "5 * 4 = 20\n",
            "5 * 5 = 25\n",
            "5 * 6 = 30\n",
            "5 * 7 = 35\n",
            "5 * 8 = 40\n",
            "5 * 9 = 45\n",
            "6 * 1 = 6\n",
            "6 * 2 = 12\n",
            "6 * 3 = 18\n",
            "6 * 4 = 24\n",
            "6 * 5 = 30\n",
            "6 * 6 = 36\n",
            "6 * 7 = 42\n",
            "6 * 8 = 48\n",
            "6 * 9 = 54\n",
            "7 * 1 = 7\n",
            "7 * 2 = 14\n",
            "7 * 3 = 21\n",
            "7 * 4 = 28\n",
            "7 * 5 = 35\n",
            "7 * 6 = 42\n",
            "7 * 7 = 49\n",
            "7 * 8 = 56\n",
            "7 * 9 = 63\n",
            "8 * 1 = 8\n",
            "8 * 2 = 16\n",
            "8 * 3 = 24\n",
            "8 * 4 = 32\n",
            "8 * 5 = 40\n",
            "8 * 6 = 48\n",
            "8 * 7 = 56\n",
            "8 * 8 = 64\n",
            "8 * 9 = 72\n",
            "9 * 1 = 9\n",
            "9 * 2 = 18\n",
            "9 * 3 = 27\n",
            "9 * 4 = 36\n",
            "9 * 5 = 45\n",
            "9 * 6 = 54\n",
            "9 * 7 = 63\n",
            "9 * 8 = 72\n",
            "9 * 9 = 81\n"
          ]
        }
      ],
      "source": [
        "#15. for문 2~9단\n",
        "for i in range(2,10):\n",
        "  for j in range(1,10):\n",
        "    print(i,\"*\",j,\"=\",i*j)"
      ]
    },
    {
      "cell_type": "code",
      "execution_count": null,
      "metadata": {
        "colab": {
          "base_uri": "https://localhost:8080/"
        },
        "id": "IM70J_JeBWwf",
        "outputId": "0f388b19-d671-424f-fd38-e70937b5a398"
      },
      "outputs": [
        {
          "output_type": "stream",
          "name": "stdout",
          "text": [
            "max= 3\n",
            "min= 1\n"
          ]
        }
      ],
      "source": [
        "#16 3개 변수에 수를 저장하고 if문 가장 큰 수, 가장 작은 수 출력\n",
        "a = 1\n",
        "b = 2\n",
        "c = 3\n",
        "if a>b and a>c:\n",
        "  print(\"max=\",a)\n",
        "elif b>a and b>c:\n",
        "  print(\"max=\",b)\n",
        "else:\n",
        "  print(\"max=\",c)\n",
        "\n",
        "if a<b and a<c:\n",
        "  print(\"min=\",a)\n",
        "elif b<a and b<c:\n",
        "  print(\"min=\",b)\n",
        "else:\n",
        "  print(\"min=\",c)"
      ]
    },
    {
      "cell_type": "code",
      "execution_count": null,
      "metadata": {
        "colab": {
          "base_uri": "https://localhost:8080/"
        },
        "id": "KyvsiNxCB63m",
        "outputId": "0383fd64-5742-458c-d5d4-39e984ed84d4"
      },
      "outputs": [
        {
          "output_type": "stream",
          "name": "stdout",
          "text": [
            "A\n"
          ]
        }
      ],
      "source": [
        "#17. if,elif,else 시험점수\n",
        "score = 95\n",
        "\n",
        "if score>90:\n",
        "  print('A')\n",
        "\n",
        "elif score>=80:\n",
        "  print(\"B\")"
      ]
    },
    {
      "cell_type": "code",
      "execution_count": null,
      "metadata": {
        "colab": {
          "base_uri": "https://localhost:8080/"
        },
        "id": "z00pAdS8CJid",
        "outputId": "4fe87a16-030c-472f-d3fb-fa70794276e5"
      },
      "outputs": [
        {
          "output_type": "stream",
          "name": "stdout",
          "text": [
            "2550\n",
            "2550\n"
          ]
        }
      ],
      "source": [
        "#18. 반복문 1~100 짝수의 합\n",
        "sum = 0\n",
        "for i in range(1,101):\n",
        "  if (i%2 == 0):\n",
        "    sum = sum+i\n",
        "print(sum)\n",
        "#또는\n",
        "sum = 0\n",
        "for i in range(0,101,2):\n",
        "  sum = sum+i\n",
        "print(sum)"
      ]
    },
    {
      "cell_type": "code",
      "execution_count": null,
      "metadata": {
        "colab": {
          "base_uri": "https://localhost:8080/"
        },
        "id": "k_IlkmImCZaZ",
        "outputId": "10ae4a3e-0add-4cce-9056-06e97926a68b"
      },
      "outputs": [
        {
          "output_type": "stream",
          "name": "stdout",
          "text": [
            "385\n"
          ]
        }
      ],
      "source": [
        "#19. i = 1~10 i*i\n",
        "sum = 0\n",
        "for i in range(1,11):\n",
        "  sum = sum+i*i\n",
        "print(sum)"
      ]
    },
    {
      "cell_type": "code",
      "execution_count": null,
      "metadata": {
        "colab": {
          "base_uri": "https://localhost:8080/"
        },
        "id": "FdQkLvFeC4cl",
        "outputId": "75fea172-2a82-4af6-c5f5-063718d0b162"
      },
      "outputs": [
        {
          "output_type": "stream",
          "name": "stdout",
          "text": [
            "1320\n"
          ]
        }
      ],
      "source": [
        "#20. i= 1~10, j = 1~i-1, i*j\n",
        "sum = 0\n",
        "for i in range(1,11):\n",
        "  for j in range(1,i):\n",
        "    sum = sum+i*j\n",
        "print(sum)"
      ]
    },
    {
      "cell_type": "code",
      "execution_count": null,
      "metadata": {
        "colab": {
          "base_uri": "https://localhost:8080/"
        },
        "id": "OFJZD7mBDQr2",
        "outputId": "8907d5f8-5b45-4ee4-8c0f-a1c4cf965e4d"
      },
      "outputs": [
        {
          "output_type": "stream",
          "name": "stdout",
          "text": [
            "35\n"
          ]
        }
      ],
      "source": [
        "#21. 수열 n번째 수열의 합을 구하는 프로그램 for 문\n",
        "# 1+(1+2)+(1+2+3)+...(1+...+n)\n",
        "# 1) n이 주어졌을 때 일반항 an = 1+2+3+...+n\n",
        "n=5\n",
        "sum= 0\n",
        "for i in range(1,6):\n",
        "  sum = sum+i\n",
        "#2)***************\n",
        "sum = 0\n",
        "total_sum=0\n",
        "for i in range(1,n+1):\n",
        "  sum = sum+i\n",
        "  total_sum =  total_sum+sum\n",
        "print(total_sum)\n"
      ]
    },
    {
      "cell_type": "code",
      "execution_count": null,
      "metadata": {
        "id": "tipXw9S-EFvr"
      },
      "outputs": [],
      "source": [
        "#22 클래스 변수의 변수명\n",
        "class chair():\n",
        "  size = 100\n",
        "\n",
        "def __init__(self, width, length):\n",
        "  self.width = width\n",
        "  self.length = length\n",
        "  #답:size"
      ]
    },
    {
      "cell_type": "code",
      "execution_count": null,
      "metadata": {
        "colab": {
          "base_uri": "https://localhost:8080/",
          "height": 114
        },
        "id": "rqpR2x_kEjQS",
        "outputId": "5bcfb6d2-80c3-4c34-c1f9-03188d55e266"
      },
      "outputs": [
        {
          "output_type": "error",
          "ename": "IndentationError",
          "evalue": "expected an indented block after function definition on line 5 (<ipython-input-4-90d2f57a1c52>, line 7)",
          "traceback": [
            "\u001b[0;36m  File \u001b[0;32m\"<ipython-input-4-90d2f57a1c52>\"\u001b[0;36m, line \u001b[0;32m7\u001b[0m\n\u001b[0;31m    def area(self):\u001b[0m\n\u001b[0m    ^\u001b[0m\n\u001b[0;31mIndentationError\u001b[0m\u001b[0;31m:\u001b[0m expected an indented block after function definition on line 5\n"
          ]
        }
      ],
      "source": [
        "#23 인스턴스 메서드의 메서드명\n",
        "class chair():\n",
        "  size = 100\n",
        "\n",
        "  def __init__(self,width,length):\n",
        "\n",
        "  def area(self):\n",
        "\n",
        "  @staticmethod\n",
        "  def check(number):\n",
        "  @classmethod\n",
        "  def change(cls):\n",
        "#답: __init__ , area"
      ]
    },
    {
      "cell_type": "code",
      "execution_count": null,
      "metadata": {
        "id": "GMOSrAr2FOWn"
      },
      "outputs": [],
      "source": [
        "#24. coffeesales.txt 파일에 내용\n",
        "#빈칸\n",
        "#책에 내용"
      ]
    }
  ],
  "metadata": {
    "colab": {
      "provenance": [],
      "include_colab_link": true
    },
    "kernelspec": {
      "display_name": "Python 3",
      "name": "python3"
    },
    "language_info": {
      "name": "python"
    }
  },
  "nbformat": 4,
  "nbformat_minor": 0
}